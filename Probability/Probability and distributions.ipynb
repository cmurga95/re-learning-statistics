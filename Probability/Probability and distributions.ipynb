{
 "cells": [
  {
   "cell_type": "code",
   "execution_count": 34,
   "metadata": {},
   "outputs": [],
   "source": [
    "#a set\n",
    "\n",
    "import numpy as np\n",
    "import matplotlib.pyplot as plt\n",
    "import math"
   ]
  },
  {
   "cell_type": "markdown",
   "metadata": {},
   "source": [
    "#### A set\n",
    "Or a collection of objects (sets of numbers) \n",
    "The notation $C=\\left\\lbrace x:0\\le x\\le1\\right\\rbrace$ is read \"C is the one dimensional set of points x for which $0 \\le x \\le 1$. Similarly $C=\\left\\lbrace\\left(x,y\\right):0\\le x\\le1,0\\le y\\le1\\right\\rbrace$\n",
    "can be read \"C is the two-dimensional set of points (x, y) that are interior to, or on the boundary of, a square with opposite vertices at (0,0) and (1,1)\".\n"
   ]
  },
  {
   "cell_type": "code",
   "execution_count": 5,
   "metadata": {},
   "outputs": [
    {
     "name": "stdout",
     "output_type": "stream",
     "text": [
      "1 Part of the set\n",
      "0.75 is not part of the set\n"
     ]
    }
   ],
   "source": [
    "set = np.arange(0,11) #our set is integers from 1 to 10 \n",
    "\n",
    "numbers = [1,3/4]\n",
    "for number in numbers:\n",
    "    if number in set:\n",
    "        print(f'{number} Part of the set')\n",
    "    else:\n",
    "        print(f'{number} is not part of the set')"
   ]
  },
  {
   "cell_type": "markdown",
   "metadata": {},
   "source": [
    "# Review of set theory\n",
    "## Complement \n",
    "The **complement** of an event A is the set of all elements in C which are not in A. We denote the complement of $A$  by $A^C$. That is, $A^{C}={x }\\in C: x \\notin A$.\n",
    "## Empty set\n",
    "An *empty* set is the event with no elements in it. It is denoted by $\\emptyset$\n",
    "## Union\n",
    "$A \\cup B$\n",
    "## Intersection\n",
    "$A\\cap B$\n",
    "## Disjoint\n",
    "A and b are **disjoint** if they have no elements in common, thus $A \\cap B = \\emptyset$\n",
    "\n",
    "## General distributive laws\n",
    "$A \\cap (B \\cup C) = (A \\cap B)\\cup(A\\cap C)$\n",
    "\n",
    "$A\\cup (B\\cap C) = (A\\cup B)\\cap(A\\cup C)$\n",
    "\n",
    "\n",
    "## DeMorgan's laws\n",
    "For any sets A and B \n",
    "$(A\\cap B)^C$ = $A^C\\cup B^C$\n",
    "$(A\\cup B)^C$=$(A^C\\cap B^C)$\n"
   ]
  },
  {
   "cell_type": "code",
   "execution_count": 9,
   "metadata": {},
   "outputs": [
    {
     "name": "stdout",
     "output_type": "stream",
     "text": [
      "a is part of space\n",
      "a is part of space\n",
      "b is part of space\n",
      "b is part of space\n",
      "c is part of space\n",
      "c is part of space\n"
     ]
    }
   ],
   "source": [
    "'''\n",
    "suppose the experiment is to select a real number\n",
    "C = (0,5)\n",
    "\n",
    "Let A =  (1,3)\n",
    "\n",
    "B = (2,4)\n",
    "\n",
    "C = [3,4.5]\n",
    "\n",
    "'''\n",
    "\n",
    "space = np.arange(0,5,0.001)\n",
    "\n",
    "a = [1,3]\n",
    "b = [2,4]\n",
    "c = [3,4.5]\n",
    "\n",
    "for number in a:\n",
    "    if number in space:\n",
    "        print(\"a is part of space\")\n",
    "\n",
    "for number in b:\n",
    "    if number in space:\n",
    "        print(\"b is part of space\")\n",
    "\n",
    "for number in c:\n",
    "    if number in space:\n",
    "        print(\"c is part of space\")\n"
   ]
  },
  {
   "cell_type": "code",
   "execution_count": 48,
   "metadata": {},
   "outputs": [
    {
     "name": "stdout",
     "output_type": "stream",
     "text": [
      "For a = -0.90, sum = 0.5236, expected = 0.5263\n",
      "For a = -0.70, sum = 0.5882, expected = 0.5882\n",
      "For a = -0.50, sum = 0.6667, expected = 0.6667\n",
      "For a = -0.30, sum = 0.7692, expected = 0.7692\n",
      "For a = -0.10, sum = 0.9091, expected = 0.9091\n",
      "For a = 0.10, sum = 1.1111, expected = 1.1111\n",
      "For a = 0.30, sum = 1.4286, expected = 1.4286\n",
      "For a = 0.50, sum = 2.0000, expected = 2.0000\n",
      "For a = 0.70, sum = 3.3333, expected = 3.3333\n",
      "For a = 0.90, sum = 9.9485, expected = 10.0000\n"
     ]
    }
   ],
   "source": [
    "import numpy as np\n",
    "\n",
    "def geometric_series(a, n):\n",
    "    series_sum = np.sum(a**np.arange(n))\n",
    "    return series_sum\n",
    "\n",
    "# Values for a within the range |a| < 1\n",
    "a_values = np.linspace(-0.9, 0.9, 10)\n",
    "\n",
    "# Number of terms in the series\n",
    "n = 50\n",
    "\n",
    "# Calculate and print the sum for each value of a\n",
    "for a in a_values:\n",
    "    result = geometric_series(a, n)\n",
    "    expected_result = 1 / (1 - a)\n",
    "    print(f\"For a = {a:.2f}, sum = {result:.4f}, expected = {expected_result:.4f}\")"
   ]
  },
  {
   "cell_type": "markdown",
   "metadata": {},
   "source": [
    "The definition of probability consists of three axioms which we motivate by the following three intuitive properties of relative frequency. Let $C$ be a sample space and let $A \\subset C$. Suppose we repeat the experiment $N$ times. Then the relative frequency of $A$ is $f_A = \\frac{\\#A}{N}$, where $\\#A$ denotes the number of times $A$ occurred in the $N$ repetitions. Note that $f_A \\geq 0$ and $f_C = 1$. These are the first two properties. For the third, suppose that $A_1$ and $A_2$ are disjoint events. Then $f_{A_1 \\cup A_2} = f_{A_1}$\n"
   ]
  },
  {
   "cell_type": "code",
   "execution_count": 86,
   "metadata": {},
   "outputs": [],
   "source": [
    "'''\n",
    "Sample space is the set of all possible outcomes of a single die toss. \n",
    "In this case, our sample space is also the event space.\n",
    "and our probability P(sample_space) = 1/6\n",
    "'''\n",
    "\n",
    "sample_space = np.array([1,2,3,4,5,6]) \n",
    "\n",
    "events = [] #results of an experiment\n",
    "\n",
    "for _ in range(1000):\n",
    "    number = np.random.randint(1,7)\n",
    "    events.append(number)"
   ]
  },
  {
   "cell_type": "code",
   "execution_count": 87,
   "metadata": {},
   "outputs": [],
   "source": [
    "relative_freq = []\n",
    "\n",
    "for number in sample_space:\n",
    "    count = np.count_nonzero(events == number)\n",
    "    relative_freq.append(count)"
   ]
  },
  {
   "cell_type": "code",
   "execution_count": 100,
   "metadata": {},
   "outputs": [
    {
     "data": {
      "text/plain": [
       "array([[17.7, 16.4, 15.3, 16.6, 18.3, 15.7]])"
      ]
     },
     "execution_count": 100,
     "metadata": {},
     "output_type": "execute_result"
    }
   ],
   "source": [
    "frequency_table = np.array([relative_freq])/len(events)\n",
    "frequency_table*100"
   ]
  },
  {
   "cell_type": "markdown",
   "metadata": {},
   "source": [
    "$$\n",
    "\\text{A probability set function tells us how the probability is distributed over the set of events, } B. \\text{ In this sense we speak of a distribution of probability. We often drop the word “set” and refer to } P \\text{ as a probability function. The following theorems give us some other properties of a probability set function. In the statement of each of these theorems, } P(A) \\text{ is taken, tacitly, to be a probability set function defined on the collection of events } B \\text{ of a sample space } C. $$\n",
    "\n",
    "$$\n",
    "\\text{Theorem 1.3.1. For each event } A \\in B, P(A) = 1 - P(A^c). \\\\\n",
    "\\text{Proof: We have } C = A \\cup A^c \\text{ and } A \\cap A^c = \\emptyset. \\text{ Thus, from (2) and (3) of Definition 1.3.1, it follows that } \\\\\n",
    "1 = P(A) + P(A^c), \\\\\n",
    "\\text{which is the desired result.} $$\n",
    "\n",
    "$$\n",
    "\\text{Theorem 1.3.2. The probability of the null set is zero; that is, } P(\\emptyset) = 0. \\\\\n",
    "\\text{Proof: In Theorem 1.3.1, take } A = \\emptyset \\text{ so that } A^c = C. \\text{ Accordingly, we have } P(\\emptyset) = 1 - P(C) = 1 - 1 = 0 \\\\\n",
    "\\text{and the theorem is proved.} $$\n",
    "\n",
    "$$\n",
    "\\text{Theorem 1.3.3. If } A \\text{ and } B \\text{ are events such that } A \\subset B, \\text{ then } P(A) \\leq P(B). \\\\\n",
    "\\text{Proof: Now } B = A \\cup (A^c \\cap B) \\text{ and } A \\cap (A^c \\cap B) = \\emptyset. \\text{ Hence, from (3) of Definition 1.3.1,} \\\\\n",
    "P(B) = P(A) + P(A^c \\cap B). \\text{ From (1) of Definition 1.3.1, } P(A^c \\cap B) \\geq 0. \\text{ Hence, } P(B) \\geq P(A). $$\n",
    "\n",
    "$$\n",
    "\\text{Theorem 1.3.4. For each } A \\in B, 0 \\leq P(A) \\leq 1. \\\\\n",
    "\\text{Proof: Since } \\emptyset \\subset A \\subset C, \\text{ we have by Theorem 1.3.3 that } P(\\emptyset) \\leq P(A) \\leq P(C) \\\\\n",
    "\\text{or } 0 \\leq P(A) \\leq 1, \\text{ the desired result.} $$\n",
    "\n",
    "$$\n",
    "\\text{Part (3) of the definition of probability says that } P(A \\cup B) = P(A) + P(B) \\text{ if } A \\text{ and } B \\text{ are disjoint, i.e., } A \\cap B = \\emptyset . \\text{ The next theorem gives the rule for any two events regardless if they are disjoint or not.} $$\n",
    "\n",
    "$$\n",
    "\\text{Theorem 1.3.5. If } A \\text{ and } B \\text{ are events in } C, \\text{ then } P(A \\cup B) = P(A) + P(B) - P(A \\cap B). \\\\\n",
    "\\text{Proof: Each of the sets } A \\cup B \\text{ and } B \\text{ can be represented, respectively, as a union of nonintersecting sets as follows:} \\\\\n",
    "A \\cup B = A \\cup (A^c \\cap B) \\text{ and } B = (A \\cap B) \\cup (A^c \\cap B).\n",
    "$$\n",
    "\n"
   ]
  },
  {
   "cell_type": "markdown",
   "metadata": {},
   "source": [
    "# Counting rules\n",
    "The first rule is called the mn-rule (m times n-rule), which is also called the multiplication rule. Let $A = \\{x_1, x_2, \\ldots, x_m\\}$ be a set of $m$ elements and let $B = \\{y_1, y_2, \\ldots, y_n\\}$ be a set of $n$ elements. Then there are $mn$ ordered pairs, $(x_i, y_j)$, where $i = 1, 2, \\ldots, m$ and $j = 1, 2, \\ldots, n$, of elements, the first from $A$ and the second from $B$. Informally, we often speak of ways, here.\n",
    "\n",
    "Next, let $A$ be a set with $n$ elements. Suppose we are interested in $k$-tuples whose components are elements of $A$. Then by the extended mn rule, there are $n \\cdot n \\cdot \\ldots \\cdot n = n^k$ such $k$-tuples whose components are elements of $A$. Next, suppose $k \\leq n$ and we are interested in $k$-tuples whose components are distinct (no repeats) elements of $A$. There are $n$ elements from which to choose for the first component, $n-1$ for the second component, ..., $n-(k-1)$ for the $k$th. Hence, by the mn rule, there are $n \\cdot (n - 1) \\cdot \\ldots \\cdot (n - (k - 1))$ such $k$-tuples with distinct elements. We call each such $k$-tuple a permutation and use the symbol $P_n^k$ to denote the number of $k$ permutations taken from a set of $n$ elements. This number of permutations, $P_n^k$, is our second counting rule. We can rewrite it as $P_n^k = \\frac{n!}{(n - k)!}$.\n"
   ]
  },
  {
   "cell_type": "code",
   "execution_count": 35,
   "metadata": {},
   "outputs": [],
   "source": [
    "def multiplication(n1,n2):\n",
    "    '''\n",
    "    Multiplication rule\n",
    "    n1 is number of posibilities of event 1\n",
    "    n2 is number of posibilities of event 2\n",
    "    '''\n",
    "    return n1*n2 \n",
    "\n",
    "def permutations(n,k):\n",
    "    '''\n",
    "    Permutation rule\n",
    "    Number of permutations k taken from a set of n elements\n",
    "    Distinct multiplication rule\n",
    "    \n",
    "    (n)\n",
    "    | | = n!/((n-k)!)\n",
    "    (k)\n",
    "    '''\n",
    "    return math.factorial(n)/math.factorial(n-k)"
   ]
  },
  {
   "cell_type": "code",
   "execution_count": 36,
   "metadata": {},
   "outputs": [
    {
     "data": {
      "text/plain": [
       "0.2739726027397249"
      ]
     },
     "execution_count": 36,
     "metadata": {},
     "output_type": "execute_result"
    }
   ],
   "source": [
    "'''\n",
    "Suppose there are n people in a room. n<365 and people are unrelated in any way \n",
    "Finding the probability that at least 2 people have the same birthday.\n",
    "'''\n",
    "'''\n",
    "There are 365^n possible birthday n-tuples for these n people. \n",
    "This is the number of elements in the sample space.\n",
    "\n",
    "'''\n",
    "n = 2\n",
    "(1-permutations(365,n)/365**n)*100"
   ]
  },
  {
   "cell_type": "code",
   "execution_count": 37,
   "metadata": {},
   "outputs": [],
   "source": [
    "def combinations(n,k):\n",
    "    '''\n",
    "    (n)\n",
    "    | | = n!/(k!(n-k)!)\n",
    "    (k)\n",
    "    '''\n",
    "    return math.factorial(n)/(math.factorial(k)*math.factorial(n-k))"
   ]
  },
  {
   "cell_type": "code",
   "execution_count": 2,
   "metadata": {},
   "outputs": [],
   "source": [
    "def combinations_noreplacement(n,k):\n",
    "    '''\n",
    "    n**k\n",
    "    '''\n",
    "    return n**k"
   ]
  },
  {
   "cell_type": "code",
   "execution_count": 40,
   "metadata": {},
   "outputs": [
    {
     "name": "stdout",
     "output_type": "stream",
     "text": [
      "0.0019807923169267707\n"
     ]
    }
   ],
   "source": [
    "'''\n",
    "Poker hand\n",
    "5 hands are taken at random and without replacement (combinations)\n",
    "So out sample space is C(52,5) combinations (remember, without replacement)\n",
    "Probabilities of a flush: all five cards of the same suit.\n",
    "\n",
    "There are 4 suits to choose for the flush (4,1)\n",
    "\n",
    "There are (13,5) possible hands.\n",
    "13 different cards and we choose 5 hands.\n",
    "\n",
    "C(4,1)*C(13,5)/C(52,5)\n",
    "\n",
    "This means we have to get \n",
    "5 cards of the same kind (13 of the same kind)\n",
    "AND it has to actually be the same kind (4 kinds but it only has to be 1)\n",
    "'''\n",
    "\n",
    "\n",
    "print(f'{combinations(4,1)*combinations(13,5)/combinations(52,5)}')"
   ]
  },
  {
   "cell_type": "code",
   "execution_count": 43,
   "metadata": {},
   "outputs": [
    {
     "name": "stdout",
     "output_type": "stream",
     "text": [
      "Probability of E2 happening is 2.112845138055222\n"
     ]
    }
   ],
   "source": [
    "from probability import combinations\n",
    "'''\n",
    "Getting exactly three of a kind \n",
    "(the other two cards are distinct and are of different kinds)\n",
    "\n",
    "C(13,1)*C(4,3)*C(12,2)*C(4,1)*C(4,1)/C(52,5)\n",
    "\n",
    "C(52,5): this is the universe. Its a combination without\n",
    "replacement because once you take the cards, you dont put them back\n",
    "\n",
    "'''\n",
    "p = combinations(13,1)*combinations(4,3)*combinations(12,2)*combinations(4,1)*combinations(4,1)/combinations(52,5)\n",
    "\n",
    "print(f\"Probability of E2 happening is {p*100}\")"
   ]
  },
  {
   "cell_type": "code",
   "execution_count": null,
   "metadata": {},
   "outputs": [],
   "source": []
  }
 ],
 "metadata": {
  "kernelspec": {
   "display_name": "mlenv",
   "language": "python",
   "name": "python3"
  },
  "language_info": {
   "codemirror_mode": {
    "name": "ipython",
    "version": 3
   },
   "file_extension": ".py",
   "mimetype": "text/x-python",
   "name": "python",
   "nbconvert_exporter": "python",
   "pygments_lexer": "ipython3",
   "version": "3.9.17"
  }
 },
 "nbformat": 4,
 "nbformat_minor": 2
}
