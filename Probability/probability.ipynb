{
 "cells": [
  {
   "cell_type": "code",
   "execution_count": 1,
   "metadata": {},
   "outputs": [],
   "source": [
    "import numpy as np\n",
    "import math\n",
    "\n",
    "def multiplication(n1,n2):\n",
    "    '''\n",
    "    Multiplication rule\n",
    "    n1 is number of posibilities of event 1\n",
    "    n2 is number of posibilities of event 2\n",
    "    '''\n",
    "    return n1*n2 \n",
    "\n",
    "def permutations(n,k):\n",
    "    '''\n",
    "    Permutation rule\n",
    "    Number of permutations k taken from a set of n elements\n",
    "    Distinct multiplication rule\n",
    "    \n",
    "    (n)\n",
    "    | | = n!/((n-k)!)\n",
    "    (k)\n",
    "    '''\n",
    "    return math.factorial(n)/math.factorial(n-k)\n",
    "\n",
    "def combinations(n,k):\n",
    "    '''\n",
    "    Combinations are without replacement\n",
    "    (n)\n",
    "    | | = n!/(k!(n-k)!)\n",
    "    (k)\n",
    "    '''\n",
    "    return math.factorial(n)/(math.factorial(k)*math.factorial(n-k))"
   ]
  }
 ],
 "metadata": {
  "kernelspec": {
   "display_name": "mlenv",
   "language": "python",
   "name": "python3"
  },
  "language_info": {
   "codemirror_mode": {
    "name": "ipython",
    "version": 3
   },
   "file_extension": ".py",
   "mimetype": "text/x-python",
   "name": "python",
   "nbconvert_exporter": "python",
   "pygments_lexer": "ipython3",
   "version": "3.9.17"
  }
 },
 "nbformat": 4,
 "nbformat_minor": 2
}
