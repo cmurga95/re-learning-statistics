{
 "cells": [
  {
   "cell_type": "code",
   "execution_count": 19,
   "metadata": {},
   "outputs": [],
   "source": [
    "import numpy as np \n",
    "\n",
    "data = np.random.randint(0,10,100)"
   ]
  },
  {
   "cell_type": "code",
   "execution_count": 20,
   "metadata": {},
   "outputs": [],
   "source": [
    "def bubble_sort(arr):\n",
    "    n = len(arr)\n",
    "\n",
    "    # Traverse through all array elements\n",
    "    for i in range(n):\n",
    "        # Last i elements are already sorted, so we don't need to check them\n",
    "        for j in range(0, n-i-1):\n",
    "            # Swap if the element found is greater than the next element\n",
    "            if arr[j] > arr[j+1]:\n",
    "                arr[j], arr[j+1] = arr[j+1], arr[j]\n",
    "    return arr"
   ]
  },
  {
   "cell_type": "code",
   "execution_count": 55,
   "metadata": {},
   "outputs": [],
   "source": [
    "from math import ceil\n",
    "\n",
    "\n",
    "def mean(data):\n",
    "    return sum(data)/len(data)\n",
    "\n",
    "def median(data):\n",
    "    sorted = bubble_sort(data)\n",
    "    l = len(sorted)\n",
    "    if len(sorted)%2 == 0:\n",
    "        upper = int((l/2)+1)\n",
    "        lower = int((l/2)-1)\n",
    "        med = (sorted[upper]+sorted[lower])/2\n",
    "        return med\n",
    "    \n",
    "    else:\n",
    "        ind = int(ceil(l/2))\n",
    "        return ceil(sorted[l/2])\n"
   ]
  },
  {
   "cell_type": "code",
   "execution_count": 90,
   "metadata": {},
   "outputs": [],
   "source": [
    "def percentile(p,data):\n",
    "    '''\n",
    "    p = percentile we are looking for\n",
    "    data = array or list of data\n",
    "    returns value in the list corresponding to that percentile\n",
    "    and returns index of said value\n",
    "    '''\n",
    "    if p == 100:\n",
    "        index = int(len(data)-1)\n",
    "        return data[index], index\n",
    "    else:\n",
    "        n = len(data)\n",
    "        index = (p/100)*(n+1)\n",
    "        index = int(round(index)-1)\n",
    "        return data[index], index\n",
    "\n",
    "def quartiles(data):\n",
    "    '''\n",
    "    Input is an array or list of data\n",
    "    Obtain quartiles, it needs the percentile function\n",
    "    Output is q1, q2, q3, q4 and iqr\n",
    "    '''\n",
    "    q1, index1 = percentile(25,data)\n",
    "    q2, index2 = percentile(50, data)\n",
    "    q3, index3 = percentile(75, data)\n",
    "    q4, index4 = percentile(100, data)\n",
    "    iqr = q3-q1\n",
    "    return q1, q2, q3, q4, iqr\n",
    "\n",
    "def upper_lower_fence(data):\n",
    "    '''\n",
    "    returns upper and lower fence of the data\n",
    "    '''\n",
    "    q1, q2, q3, q4, iqr = quartiles(data)\n",
    "    lower_fence = q1-(1.5*iqr)\n",
    "    upper_fence = q3+(1.5*iqr)\n",
    "    return lower_fence, upper_fence"
   ]
  }
 ],
 "metadata": {
  "kernelspec": {
   "display_name": "mlenv",
   "language": "python",
   "name": "python3"
  },
  "language_info": {
   "codemirror_mode": {
    "name": "ipython",
    "version": 3
   },
   "file_extension": ".py",
   "mimetype": "text/x-python",
   "name": "python",
   "nbconvert_exporter": "python",
   "pygments_lexer": "ipython3",
   "version": "3.9.17"
  }
 },
 "nbformat": 4,
 "nbformat_minor": 2
}
